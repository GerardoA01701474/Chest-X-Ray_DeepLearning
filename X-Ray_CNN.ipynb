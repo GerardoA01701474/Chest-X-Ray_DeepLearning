{
 "cells": [
  {
   "cell_type": "code",
   "execution_count": 1,
   "metadata": {},
   "outputs": [],
   "source": [
    "import matplotlib.pyplot as plt\n",
    "import numpy as np \n",
    "\n",
    "import tensorflow as tf\n",
    "\n",
    "from keras.preprocessing.image import ImageDataGenerator\n",
    "from keras.models import Sequential\n",
    "from keras.layers import Conv2D, Flatten, Dense, Dropout, MaxPool2D\n",
    "\n",
    " \n",
    "import warnings\n",
    "warnings.filterwarnings('ignore')"
   ]
  },
  {
   "cell_type": "markdown",
   "metadata": {},
   "source": [
    "En esta notebook estaré usando un dataset con fotos de rayos-X , intentando predecir si la persona de la foto tiene covid-19, tuberculosis, neumonía o si está sano\n",
    "- Primero importamos el dataset y creamos un ImageDataGenerator para poder generar nuevas imagenes a partir de pequeños cambios en las imagenes originales, es decir que aumentaremos nuestro dataset (data augmentation) y así poder tener más instancias para entrenar el modelo. Creamos un imageGenerator para cada tipo de dato (train, test, validation) para garantizar que todas las imagenes que reciba la red estén en un mismo formato"
   ]
  },
  {
   "cell_type": "code",
   "execution_count": 2,
   "metadata": {},
   "outputs": [
    {
     "name": "stdout",
     "output_type": "stream",
     "text": [
      "Found 6326 images belonging to 4 classes.\n",
      "Found 38 images belonging to 4 classes.\n",
      "Found 771 images belonging to 4 classes.\n"
     ]
    }
   ],
   "source": [
    "train_dir = 'data/train'\n",
    "train_datagen = ImageDataGenerator(\n",
    "\t\t\t\t\t\t\trescale = 1./255,\n",
    "\t\t\t\t\t\t\trotation_range = 10,\n",
    "\t\t\t\t\t\t\twidth_shift_range = 0.2,\n",
    "\t\t\t\t\t\t\theight_shift_range = 0.2,\n",
    "\t\t\t\t\t\t\tshear_range = 0.2,\n",
    "\t\t\t\t\t\t\tzoom_range = 0.2,\n",
    "\t\t\t\t\t\t\t#horizontal_flip = True\n",
    "\t\t\t\t\t\t\t)\n",
    "\n",
    "train_generator = train_datagen.flow_from_directory(\n",
    "\t\t\t\t\t\t\ttrain_dir,\n",
    "\t\t\t\t\t\t\ttarget_size = (150, 150),\n",
    "\t\t\t\t\t\t\tbatch_size = 32,\n",
    "\t\t\t\t\t\t\tclass_mode ='categorical')\n",
    "\n",
    "val_dir = 'data/val'\t\t\t\t\t\t\n",
    "val_datagen = ImageDataGenerator(1./255)\n",
    "val_generator = val_datagen.flow_from_directory(\n",
    "\t\t\t\t\t\t\tval_dir,\n",
    "\t\t\t\t\t\t\ttarget_size = (150,150),\n",
    "\t\t\t\t\t\t\tbatch_size =32,\n",
    "\t\t\t\t\t\t\tclass_mode= 'categorical')\n",
    "\n",
    "test_dir = 'data/test'\n",
    "test_datagen = ImageDataGenerator(1./255)\n",
    "test_generator = test_datagen.flow_from_directory(\n",
    "\t\t\t\t\ttest_dir,\n",
    "\t\t\t\t\ttarget_size = (150, 150),\n",
    "\t\t\t\t\tbatch_size = 32,\n",
    "\t\t\t\t\tclass_mode= 'categorical')"
   ]
  },
  {
   "cell_type": "markdown",
   "metadata": {},
   "source": [
    "- Primero intentemo crear un modelo secuencial simple, con algunas capas convolucionales alternadas con unas de MaxPooling, para luego pasar los features de la imagen en forma de un arreglo plano hacia una capa densa. \n",
    "- Usamos softmax como función de activación final porque tenemos un problema de multiples clases y esta función ayudará a tener los porcentajes de pertenencia hacia cada clase"
   ]
  },
  {
   "cell_type": "code",
   "execution_count": 16,
   "metadata": {},
   "outputs": [],
   "source": [
    "model = Sequential()\n",
    "model.add(Conv2D(filters = 64, kernel_size = (5,5), activation = \"relu\", input_shape = (150,150,3)))\n",
    "model.add(MaxPool2D(pool_size = (2,2)))\n",
    "model.add(Conv2D(filters = 32, kernel_size = (5,5), activation = \"relu\"))\n",
    "model.add(MaxPool2D(pool_size = (2,2)))\n",
    "model.add(Flatten())\n",
    "#model.add(Dense(256, activation = \"relu\"))\n",
    "model.add(Dense(4, activation = \"softmax\"))"
   ]
  },
  {
   "cell_type": "code",
   "execution_count": 17,
   "metadata": {},
   "outputs": [],
   "source": [
    "model.compile(optimizer='Adam',loss='categorical_crossentropy',metrics=['accuracy'])"
   ]
  },
  {
   "cell_type": "code",
   "execution_count": 18,
   "metadata": {},
   "outputs": [
    {
     "name": "stdout",
     "output_type": "stream",
     "text": [
      "Model: \"sequential_1\"\n",
      "_________________________________________________________________\n",
      " Layer (type)                Output Shape              Param #   \n",
      "=================================================================\n",
      " conv2d_2 (Conv2D)           (None, 146, 146, 64)      4864      \n",
      "                                                                 \n",
      " max_pooling2d_2 (MaxPooling  (None, 73, 73, 64)       0         \n",
      " 2D)                                                             \n",
      "                                                                 \n",
      " conv2d_3 (Conv2D)           (None, 69, 69, 32)        51232     \n",
      "                                                                 \n",
      " max_pooling2d_3 (MaxPooling  (None, 34, 34, 32)       0         \n",
      " 2D)                                                             \n",
      "                                                                 \n",
      " flatten_1 (Flatten)         (None, 36992)             0         \n",
      "                                                                 \n",
      " dense_2 (Dense)             (None, 4)                 147972    \n",
      "                                                                 \n",
      "=================================================================\n",
      "Total params: 204,068\n",
      "Trainable params: 204,068\n",
      "Non-trainable params: 0\n",
      "_________________________________________________________________\n"
     ]
    }
   ],
   "source": [
    "model.summary()"
   ]
  },
  {
   "cell_type": "code",
   "execution_count": 20,
   "metadata": {},
   "outputs": [
    {
     "name": "stdout",
     "output_type": "stream",
     "text": [
      "Epoch 1/10\n",
      "317/317 [==============================] - 270s 848ms/step - loss: 0.9122 - accuracy: 0.6489 - val_loss: 287.0907 - val_accuracy: 0.3947\n",
      "Epoch 2/10\n",
      "317/317 [==============================] - 272s 857ms/step - loss: 0.6866 - accuracy: 0.7445 - val_loss: 229.7079 - val_accuracy: 0.5263\n",
      "Epoch 3/10\n",
      "317/317 [==============================] - 269s 848ms/step - loss: 0.5869 - accuracy: 0.7811 - val_loss: 98.5215 - val_accuracy: 0.6316\n",
      "Epoch 4/10\n",
      "317/317 [==============================] - 271s 854ms/step - loss: 0.5790 - accuracy: 0.7830 - val_loss: 317.4187 - val_accuracy: 0.4737\n",
      "Epoch 5/10\n",
      "317/317 [==============================] - 272s 858ms/step - loss: 0.5459 - accuracy: 0.7975 - val_loss: 112.7983 - val_accuracy: 0.7105\n",
      "Epoch 6/10\n",
      "317/317 [==============================] - 268s 846ms/step - loss: 0.4919 - accuracy: 0.8157 - val_loss: 123.0335 - val_accuracy: 0.6579\n",
      "Epoch 7/10\n",
      "317/317 [==============================] - 299s 943ms/step - loss: 0.4845 - accuracy: 0.8250 - val_loss: 169.8860 - val_accuracy: 0.6579\n",
      "Epoch 8/10\n",
      "317/317 [==============================] - 277s 872ms/step - loss: 0.4717 - accuracy: 0.8253 - val_loss: 50.9677 - val_accuracy: 0.8421\n",
      "Epoch 9/10\n",
      "317/317 [==============================] - 305s 960ms/step - loss: 0.5066 - accuracy: 0.8190 - val_loss: 149.9908 - val_accuracy: 0.6842\n",
      "Epoch 10/10\n",
      "317/317 [==============================] - 294s 927ms/step - loss: 0.4847 - accuracy: 0.8136 - val_loss: 156.7983 - val_accuracy: 0.6579\n"
     ]
    }
   ],
   "source": [
    "# fit model\n",
    "history = model.fit(train_generator,\n",
    "                    #steps_per_epoch=STEP_SIZE_TRAIN,\n",
    "                    validation_data=val_generator,\n",
    "                    #validation_steps=STEP_SIZE_VALID,\n",
    "                    epochs=10)"
   ]
  },
  {
   "cell_type": "markdown",
   "metadata": {},
   "source": [
    "Como podemos ver, alcanzamos un accuracy de validación de aproximadamente 70% , lo cual no está bien, sobre todo considerando que el accuracy de entrenamiento está arriba del 80%, lo que significa que el modelo está en sobre ajustandose a los datos de entrenamiento y no está aprendiendo de manera correcta"
   ]
  },
  {
   "cell_type": "code",
   "execution_count": 21,
   "metadata": {},
   "outputs": [
    {
     "data": {
      "image/png": "[encoded data removed]",
      "text/plain": [
       "<Figure size 432x288 with 1 Axes>"
      ]
     },
     "metadata": {
      "needs_background": "light"
     },
     "output_type": "display_data"
    },
    {
     "data": {
      "image/png": "[encoded data removed]",
      "text/plain": [
       "<Figure size 432x288 with 1 Axes>"
      ]
     },
     "metadata": {
      "needs_background": "light"
     },
     "output_type": "display_data"
    }
   ],
   "source": [
    "import matplotlib.pyplot as plt\n",
    "acc = history.history['accuracy']\n",
    "val_acc = history.history['val_accuracy']\n",
    "loss = history.history['loss']\n",
    "val_loss = history.history['val_loss']\n",
    "\n",
    "epochs = range(1, len(acc)+1)\n",
    "\n",
    "plt.plot(epochs,acc,'bo',label='train accuracy')\n",
    "plt.plot(epochs,val_acc, 'b', label='validation accuracy')\n",
    "plt.title('train acc vs val acc')\n",
    "plt.legend()\n",
    "\n",
    "plt.figure()\n",
    "\n",
    "plt.plot(epochs,loss, 'bo', label ='training loss')\n",
    "plt.plot(epochs,val_loss, 'b', label = 'validation loss')\n",
    "plt.title('train loss vs val loss')\n",
    "plt.legend()\n",
    "\n",
    "plt.show()"
   ]
  },
  {
   "cell_type": "markdown",
   "metadata": {},
   "source": [
    "# Modelo 2\n",
    "### Usamos transfer learning"
   ]
  },
  {
   "cell_type": "code",
   "execution_count": 4,
   "metadata": {},
   "outputs": [],
   "source": [
    "from tensorflow.keras.applications import VGG16 \n",
    "from tensorflow.keras import layers\n",
    "from tensorflow.keras import models"
   ]
  },
  {
   "cell_type": "markdown",
   "metadata": {},
   "source": [
    "Ahora bien, podemos reutilizar un modelo previamente entrenado, de esta manera podemos aprovechar que dicho modelo ya es capaz de extraer los features de las imagenes, solo quitamos la parte del clasificador (include_top = False) para poder entrenar nuestro propio clasificador para el problema especifico que queremos resolver."
   ]
  },
  {
   "cell_type": "code",
   "execution_count": 23,
   "metadata": {},
   "outputs": [
    {
     "name": "stdout",
     "output_type": "stream",
     "text": [
      "Model: \"sequential_2\"\n",
      "_________________________________________________________________\n",
      " Layer (type)                Output Shape              Param #   \n",
      "=================================================================\n",
      " vgg16 (Functional)          (None, 4, 4, 512)         14714688  \n",
      "                                                                 \n",
      " flatten_2 (Flatten)         (None, 8192)              0         \n",
      "                                                                 \n",
      " dense_3 (Dense)             (None, 4)                 32772     \n",
      "                                                                 \n",
      "=================================================================\n",
      "Total params: 14,747,460\n",
      "Trainable params: 14,747,460\n",
      "Non-trainable params: 0\n",
      "_________________________________________________________________\n",
      "Epoch 1/10\n",
      "317/317 [==============================] - 328s 1s/step - loss: 0.4260 - accuracy: 0.8399 - val_loss: 25.8411 - val_accuracy: 0.5526\n",
      "Epoch 2/10\n",
      "317/317 [==============================] - 332s 1s/step - loss: 0.2751 - accuracy: 0.8955 - val_loss: 19.6655 - val_accuracy: 0.6842\n",
      "Epoch 3/10\n",
      "317/317 [==============================] - 337s 1s/step - loss: 0.2556 - accuracy: 0.9036 - val_loss: 12.9876 - val_accuracy: 0.7632\n",
      "Epoch 4/10\n",
      "317/317 [==============================] - 335s 1s/step - loss: 0.2281 - accuracy: 0.9120 - val_loss: 23.2197 - val_accuracy: 0.7368\n",
      "Epoch 5/10\n",
      "317/317 [==============================] - 361s 1s/step - loss: 0.2171 - accuracy: 0.9202 - val_loss: 22.3867 - val_accuracy: 0.7368\n",
      "Epoch 6/10\n",
      "317/317 [==============================] - 366s 1s/step - loss: 0.2054 - accuracy: 0.9236 - val_loss: 20.6346 - val_accuracy: 0.7368\n",
      "Epoch 7/10\n",
      "317/317 [==============================] - 363s 1s/step - loss: 0.1919 - accuracy: 0.9257 - val_loss: 28.8864 - val_accuracy: 0.6842\n",
      "Epoch 8/10\n",
      "317/317 [==============================] - 359s 1s/step - loss: 0.1847 - accuracy: 0.9301 - val_loss: 26.9283 - val_accuracy: 0.7105\n",
      "Epoch 9/10\n",
      "317/317 [==============================] - 364s 1s/step - loss: 0.1855 - accuracy: 0.9312 - val_loss: 25.9334 - val_accuracy: 0.7105\n",
      "Epoch 10/10\n",
      "317/317 [==============================] - 355s 1s/step - loss: 0.1866 - accuracy: 0.9334 - val_loss: 25.6079 - val_accuracy: 0.7368\n"
     ]
    }
   ],
   "source": [
    "conv_base= VGG16(weights='imagenet',\n",
    "\t\t\t\t\t\t\t\tinclude_top=False,\n",
    "\t\t\t\t\t\t\t\tinput_shape = (150,150,3))\n",
    "\t\t\t\t\t\t\t\t\n",
    "model = models.Sequential()\n",
    "model.add(conv_base)\n",
    "\n",
    "model.add(layers.Flatten())\n",
    "#model.add(layers.Dense(256,activation='relu'))\n",
    "model.add(layers.Dense(4,activation='softmax'))\n",
    "\n",
    "model.summary()\n",
    "\n",
    "conv_base.trainable = False\n",
    "model.compile(optimizer='Adam',loss='categorical_crossentropy',metrics=['accuracy'])\n",
    "# fit model\n",
    "history = model.fit(train_generator,\n",
    "                    #steps_per_epoch=STEP_SIZE_TRAIN,\n",
    "                    validation_data=val_generator,\n",
    "                    #validation_steps=STEP_SIZE_VALID,\n",
    "                    epochs=10)"
   ]
  },
  {
   "cell_type": "markdown",
   "metadata": {},
   "source": [
    "Como se puede ver en el resumen de arriba o en las siguientes graficas, el accuracy de validación mejoró, sin embargo, la brecha entre val_acc y train_acc creció, lo que quiere decir que el problema de overfitting empeoró. "
   ]
  },
  {
   "cell_type": "code",
   "execution_count": 24,
   "metadata": {},
   "outputs": [
    {
     "data": {
      "image/png": "[encoded data removed]",
      "text/plain": [
       "<Figure size 432x288 with 1 Axes>"
      ]
     },
     "metadata": {
      "needs_background": "light"
     },
     "output_type": "display_data"
    },
    {
     "data": {
      "image/png": "[encoded data removed]",
      "text/plain": [
       "<Figure size 432x288 with 1 Axes>"
      ]
     },
     "metadata": {
      "needs_background": "light"
     },
     "output_type": "display_data"
    }
   ],
   "source": [
    "acc = history.history['accuracy']\n",
    "val_acc = history.history['val_accuracy']\n",
    "loss = history.history['loss']\n",
    "val_loss = history.history['val_loss']\n",
    "\n",
    "epochs = range(1, len(acc)+1)\n",
    "\n",
    "plt.plot(epochs,acc,'bo',label='train accuracy')\n",
    "plt.plot(epochs,val_acc, 'b', label='validation accuracy')\n",
    "plt.title('train acc vs val acc')\n",
    "plt.legend()\n",
    "\n",
    "plt.figure()\n",
    "\n",
    "plt.plot(epochs,loss, 'bo', label ='training loss')\n",
    "plt.plot(epochs,val_loss, 'b', label = 'validation loss')\n",
    "plt.title('train loss vs val loss')\n",
    "plt.legend()\n",
    "\n",
    "plt.show()"
   ]
  },
  {
   "cell_type": "markdown",
   "metadata": {},
   "source": [
    "# Modelo 3\n",
    "### Apagamos algunas neuronas en la red neuronal"
   ]
  },
  {
   "cell_type": "markdown",
   "metadata": {},
   "source": [
    "- Una tecnica de regularización del modelo que podemos usar para evitar el overfitting es la de apagar algunas neuronas en cada iteración de entrenamiento del modelo. De este modo forzamos al modelo a no ajustarse a los datos de entrenamiento, y que en lugar de eso aprenda correctamente a hacer la identificación. En este caso dejaré que cada neurona tenga un 25% de probabilidad de apagarse en cada iteración\n",
    "- Por otro lado agregaré una capa densa extra antes de la capa final, en dicha capa se usará la acitvación Relu\n",
    "- Descongelaremos las ultimas 2 capas del modelo VGG16 para poder reentrenarlas y ver si hay alguna mejora. Esto porque dichas capas ya continen los pesos adecuados para identificar cosas más especificas, y queremos que nos ayude a un nivel más abstracto (formas, esquinas, cosas por el estilo)"
   ]
  },
  {
   "cell_type": "code",
   "execution_count": 5,
   "metadata": {},
   "outputs": [
    {
     "name": "stdout",
     "output_type": "stream",
     "text": [
      "Model: \"sequential\"\n",
      "_________________________________________________________________\n",
      " Layer (type)                Output Shape              Param #   \n",
      "=================================================================\n",
      " vgg16 (Functional)          (None, 4, 4, 512)         14714688  \n",
      "                                                                 \n",
      " dropout (Dropout)           (None, 4, 4, 512)         0         \n",
      "                                                                 \n",
      " flatten (Flatten)           (None, 8192)              0         \n",
      "                                                                 \n",
      " dense (Dense)               (None, 256)               2097408   \n",
      "                                                                 \n",
      " dense_1 (Dense)             (None, 4)                 1028      \n",
      "                                                                 \n",
      "=================================================================\n",
      "Total params: 16,813,124\n",
      "Trainable params: 16,813,124\n",
      "Non-trainable params: 0\n",
      "_________________________________________________________________\n",
      "<keras.layers.convolutional.conv2d.Conv2D object at 0x000002C176C93D00>\n",
      "<keras.layers.pooling.max_pooling2d.MaxPooling2D object at 0x000002C176C93FA0>\n",
      "Epoch 1/15\n",
      "25/25 [==============================] - 40s 2s/step - loss: 0.9458 - accuracy: 0.6575 - mean_absolute_error: 0.2142 - val_loss: 48.2386 - val_accuracy: 0.4474 - val_mean_absolute_error: 0.2764\n",
      "Epoch 2/15\n",
      "25/25 [==============================] - 38s 2s/step - loss: 0.3892 - accuracy: 0.8462 - mean_absolute_error: 0.1036 - val_loss: 15.2739 - val_accuracy: 0.7105 - val_mean_absolute_error: 0.1449\n",
      "Epoch 3/15\n",
      "25/25 [==============================] - 38s 2s/step - loss: 0.3071 - accuracy: 0.8800 - mean_absolute_error: 0.0860 - val_loss: 7.9603 - val_accuracy: 0.7368 - val_mean_absolute_error: 0.1313\n",
      "Epoch 4/15\n",
      "25/25 [==============================] - 38s 2s/step - loss: 0.2928 - accuracy: 0.8838 - mean_absolute_error: 0.0804 - val_loss: 8.0479 - val_accuracy: 0.7632 - val_mean_absolute_error: 0.1185\n",
      "Epoch 5/15\n",
      "25/25 [==============================] - 39s 2s/step - loss: 0.2099 - accuracy: 0.9187 - mean_absolute_error: 0.0604 - val_loss: 6.2514 - val_accuracy: 0.8684 - val_mean_absolute_error: 0.0696\n",
      "Epoch 6/15\n",
      "25/25 [==============================] - 43s 2s/step - loss: 0.2224 - accuracy: 0.9137 - mean_absolute_error: 0.0597 - val_loss: 11.3877 - val_accuracy: 0.6579 - val_mean_absolute_error: 0.1710\n",
      "Epoch 7/15\n",
      "25/25 [==============================] - 46s 2s/step - loss: 0.2161 - accuracy: 0.9175 - mean_absolute_error: 0.0604 - val_loss: 9.9563 - val_accuracy: 0.8158 - val_mean_absolute_error: 0.0925\n",
      "Epoch 8/15\n",
      "25/25 [==============================] - 46s 2s/step - loss: 0.2344 - accuracy: 0.8988 - mean_absolute_error: 0.0649 - val_loss: 12.2354 - val_accuracy: 0.7632 - val_mean_absolute_error: 0.1184\n",
      "Epoch 9/15\n",
      "25/25 [==============================] - 45s 2s/step - loss: 0.2605 - accuracy: 0.9050 - mean_absolute_error: 0.0644 - val_loss: 1.8898 - val_accuracy: 0.9211 - val_mean_absolute_error: 0.0413\n",
      "Epoch 10/15\n",
      "25/25 [==============================] - 45s 2s/step - loss: 0.1721 - accuracy: 0.9312 - mean_absolute_error: 0.0537 - val_loss: 9.5664 - val_accuracy: 0.7895 - val_mean_absolute_error: 0.1053\n",
      "Epoch 11/15\n",
      "25/25 [==============================] - 45s 2s/step - loss: 0.2282 - accuracy: 0.9388 - mean_absolute_error: 0.0501 - val_loss: 12.0483 - val_accuracy: 0.7895 - val_mean_absolute_error: 0.1027\n",
      "Epoch 12/15\n",
      "25/25 [==============================] - 46s 2s/step - loss: 0.2146 - accuracy: 0.9212 - mean_absolute_error: 0.0573 - val_loss: 5.8463 - val_accuracy: 0.8158 - val_mean_absolute_error: 0.0889\n",
      "Epoch 13/15\n",
      "25/25 [==============================] - 49s 2s/step - loss: 0.1773 - accuracy: 0.9425 - mean_absolute_error: 0.0499 - val_loss: 8.5867 - val_accuracy: 0.8684 - val_mean_absolute_error: 0.0658\n",
      "Epoch 14/15\n",
      "25/25 [==============================] - 48s 2s/step - loss: 0.1962 - accuracy: 0.9300 - mean_absolute_error: 0.0510 - val_loss: 9.1299 - val_accuracy: 0.8947 - val_mean_absolute_error: 0.0531\n",
      "Epoch 15/15\n",
      "25/25 [==============================] - 45s 2s/step - loss: 0.2143 - accuracy: 0.9187 - mean_absolute_error: 0.0571 - val_loss: 6.0015 - val_accuracy: 0.8684 - val_mean_absolute_error: 0.0663\n"
     ]
    }
   ],
   "source": [
    "conv_base= VGG16(weights='imagenet',\n",
    "\t\t\t\t\t\t\t\tinclude_top=False,\n",
    "\t\t\t\t\t\t\t\tinput_shape = (150,150,3))\n",
    "\t\t\t\t\t\t\t\t\n",
    "model4 = models.Sequential()\n",
    "model4.add(conv_base)\n",
    "model4.add(Dropout(0.25))\n",
    "model4.add(layers.Flatten())\n",
    "model4.add(layers.Dense(256,activation='relu'))\n",
    "model4.add(layers.Dense(4,activation='softmax'))\n",
    "\n",
    "model4.summary()\n",
    "\n",
    "# Unfreeze the base model\n",
    "conv_base.trainable = True\n",
    "# Freeze all the layers before the first layer\n",
    "for layer in conv_base.layers[:17]:\n",
    "  layer.trainable = False\n",
    "\n",
    "for layer in conv_base.layers:\n",
    "  if layer.trainable:\n",
    "    print(layer)\n",
    "\n",
    "\n",
    "opt = tf.keras.optimizers.Adam(learning_rate=.0005)\n",
    "acc = tf.keras.metrics.SparseCategoricalAccuracy()\n",
    "mae = tf.keras.metrics.MeanAbsoluteError()\n",
    "\n",
    "model4.compile(optimizer = opt,\n",
    "              loss = 'categorical_crossentropy',\n",
    "              metrics = ['accuracy', mae]\n",
    "              )\n",
    "# fit model\n",
    "#with tf.device('/GPU:0'):\n",
    "history4 = model4.fit(train_generator,\n",
    "                    steps_per_epoch=25,\n",
    "                    validation_data=val_generator,\n",
    "                    #validation_steps=250,\n",
    "                    epochs=15)"
   ]
  },
  {
   "cell_type": "markdown",
   "metadata": {},
   "source": [
    "¡Mejoró!\n",
    "- Como se puede apreciar en la gráfica, logramos que el accuracy de validación creciera hasta llegar cerca del 90%\n",
    "- El estado de overfitting prevalece, pero se ha reducido sustancialmente"
   ]
  },
  {
   "cell_type": "code",
   "execution_count": 6,
   "metadata": {},
   "outputs": [
    {
     "data": {
      "image/png": "[encoded data removed]",
      "text/plain": [
       "<Figure size 432x288 with 1 Axes>"
      ]
     },
     "metadata": {
      "needs_background": "light"
     },
     "output_type": "display_data"
    },
    {
     "data": {
      "image/png": "[encoded data removed]",
      "text/plain": [
       "<Figure size 432x288 with 1 Axes>"
      ]
     },
     "metadata": {
      "needs_background": "light"
     },
     "output_type": "display_data"
    }
   ],
   "source": [
    "model4.save('my_Model.h5')\n",
    "acc = history4.history['accuracy']\n",
    "val_acc = history4.history['val_accuracy']\n",
    "loss = history4.history['loss']\n",
    "val_loss = history4.history['val_loss']\n",
    "\n",
    "epochs = range(1, len(acc)+1)\n",
    "\n",
    "plt.plot(epochs,acc,'bo',label='train accuracy')\n",
    "plt.plot(epochs,val_acc, 'b', label='validation accuracy')\n",
    "plt.title('train acc vs val acc')\n",
    "plt.legend()\n",
    "\n",
    "plt.figure()\n",
    "\n",
    "plt.plot(epochs,loss, 'bo', label ='training loss')\n",
    "plt.plot(epochs,val_loss, 'b', label = 'validation loss')\n",
    "plt.title('train loss vs val loss')\n",
    "plt.legend()\n",
    "\n",
    "plt.show()"
   ]
  },
  {
   "cell_type": "code",
   "execution_count": 9,
   "metadata": {},
   "outputs": [
    {
     "name": "stdout",
     "output_type": "stream",
     "text": [
      "25/25 [==============================] - 36s 1s/step - loss: 13.0915 - accuracy: 0.8067 - mean_absolute_error: 0.0975\n",
      "\n",
      "test acc :\n",
      " 0.8067445158958435\n"
     ]
    }
   ],
   "source": [
    "test_loss, test_acc, m_error= model4.evaluate(test_generator, steps = 25)\n",
    "print('\\ntest acc :\\n', test_acc)"
   ]
  },
  {
   "cell_type": "markdown",
   "metadata": {},
   "source": [
    "También obtuvimos un buen desempeño en la etapa de testeo"
   ]
  },
  {
   "cell_type": "code",
   "execution_count": 25,
   "metadata": {},
   "outputs": [
    {
     "name": "stdout",
     "output_type": "stream",
     "text": [
      "1/1 [==============================] - 0s 210ms/step\n",
      "Estos rayos-X muestran que el paciente tiene: COVID19\n"
     ]
    }
   ],
   "source": [
    "from tensorflow.keras.utils import load_img\n",
    "labels = {0:'COVID19',1:'NORMAL',2:'PNEUMONIA',3:'TUBERCULOSIS'}\n",
    "img = load_img('images/cobicho.jpeg', target_size = (150,150))\n",
    "img = np.array(img)\n",
    "img = img/255.0\n",
    "img = img.reshape(1,150,150,3)\n",
    "label = model4.predict(img)\n",
    "index = np.argmax(label)\n",
    "print('Estos rayos-X muestran que el paciente tiene: '+ labels[index])"
   ]
  },
  {
   "cell_type": "code",
   "execution_count": null,
   "metadata": {},
   "outputs": [],
   "source": []
  }
 ],
 "metadata": {
  "kernelspec": {
   "display_name": "Python 3.10.2 64-bit",
   "language": "python",
   "name": "python3"
  },
  "language_info": {
   "codemirror_mode": {
    "name": "ipython",
    "version": 3
   },
   "file_extension": ".py",
   "mimetype": "text/x-python",
   "name": "python",
   "nbconvert_exporter": "python",
   "pygments_lexer": "ipython3",
   "version": "3.10.2"
  },
  "orig_nbformat": 4,
  "vscode": {
   "interpreter": {
    "hash": "94fd35bdfbdadf0cce7f7ebd34d4304e9f552af4e7bb7e536a3d4281b53fd810"
   }
  }
 },
 "nbformat": 4,
 "nbformat_minor": 2
}
